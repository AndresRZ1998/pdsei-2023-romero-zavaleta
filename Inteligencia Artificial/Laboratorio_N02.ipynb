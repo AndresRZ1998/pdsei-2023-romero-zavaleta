{
 "cells": [
  {
   "cell_type": "markdown",
   "id": "c4d35c8b-6a93-404c-b9e0-1f4759940525",
   "metadata": {},
   "source": [
    "# DESARROLLO DE LABORATORIO"
   ]
  },
  {
   "cell_type": "markdown",
   "id": "0334e76f-47b6-4b6c-9f06-09c8e0d2bfea",
   "metadata": {},
   "source": [
    "## Importamos el search y definimos el inicio y el final:"
   ]
  },
  {
   "cell_type": "code",
   "execution_count": 1,
   "id": "f3b59f5f-e5b9-40b7-be4d-2f62d9af1115",
   "metadata": {},
   "outputs": [],
   "source": [
    "from search import *\n",
    "lab_problem = GraphProblem('S1', 'S27', lab_map)"
   ]
  },
  {
   "cell_type": "markdown",
   "id": "05f93504-515d-4c1b-b1cb-1e804d2a1a96",
   "metadata": {},
   "source": [
    "## Le damos el formato deseado de visualización:"
   ]
  },
  {
   "cell_type": "code",
   "execution_count": 2,
   "id": "9b787807-cd12-4fa0-9e49-fcadd6f9a011",
   "metadata": {},
   "outputs": [],
   "source": [
    "# Diccionario con la estructura deseada (puedes modificar los valores)\n",
    "atributos_nodos = {\n",
    "    'S1':  {('3M', '3C', 'B'),('0M', '0C', '0')},\n",
    "    'S2':  {('1M', '3C', '0'),('2M', '0C', 'B')},\n",
    "    'S3':  {('2M', '3C', '0'),('1M', '0C', 'B')},\n",
    "    'S4':  {('2M', '2C', '0'),('1M', '1C', 'B')},\n",
    "    'S5':  {('3M', '2C', '0'),('0M', '1C', 'B')},\n",
    "    'S6':  {('3M', '2C', '0'),('0M', '2C', 'B')},\n",
    "    'S7':  {('2M', '3C', 'B'),('1M', '0C', '0')},\n",
    "    'S8':  {('2M', '1C', '0'),('1M', '2C', 'B')},\n",
    "    'S9':  {('0M', '3C', '0'),('3M', '0C', 'B')},\n",
    "    'S10': {('3M', '2C', 'B'),('0M', '1C', '0')},\n",
    "    'S11': {('3M', '3C', 'B'),('0M', '0C', '0')},\n",
    "    'S12': {('1M', '2C', '0'),('2M', '1C', 'B')},\n",
    "    'S13': {('3M', '1C', 'B'),('0M', '2C', '0')},\n",
    "    'S14': {('1M', '3C', 'B'),('2M', '0C', '0')},\n",
    "    'S15': {('1M', '1C', '0'),('2M', '2C', 'B')},\n",
    "    'S16': {('2M', '2C', 'B'),('1M', '1C', '0')},\n",
    "    'S17': {('2M', '1C', 'B'),('1M', '2C', '0')},\n",
    "    'S18': {('1M', '2C', 'B'),('2M', '1C', '0')},\n",
    "    'S19': {('0M', '2C', '0'),('3M', '1C', 'B')},\n",
    "    'S20': {('2M', '0C', '0'),('1M', '3C', 'B')},\n",
    "    'S21': {('1M', '0C', '0'),('2M', '3C', 'B')},\n",
    "    'S22': {('0M', '3C', 'B'),('3M', '0C', '0')},\n",
    "    'S23': {('3M', '0C', 'B'),('0M', '3C', '0')},\n",
    "    'S24': {('1M', '1C', 'B'),('2M', '2C', '0')},\n",
    "    'S25': {('0M', '1C', '0'),('3M', '2C', 'B')},\n",
    "    'S26': {('0M', '2C', 'B'),('3M', '1C', '0')},\n",
    "    'S27': {('0M', '0C', '0'),('3M', '3C', 'B')},\n",
    "    'S28': {('2M', '0C', 'B'),('1M', '3C', '0')},\n",
    "    'S29': {('0M', '1C', 'B'),('3M', '2C', '0')},\n",
    "    'S30': {('1M', '0C', 'B'),('2M', '3C', '0')}\n",
    "}\n",
    "\n",
    "# Función personalizada para formatear la salida\n",
    "def formatear_ruta(resultado):\n",
    "    estados = resultado.solution()\n",
    "    # Imprimir la ruta en formato escalonado\n",
    "    salida = \"\"\n",
    "    for estado in estados:\n",
    "        if estado in atributos_nodos:\n",
    "            salida += f\"{estado}: {atributos_nodos[estado]}\\n\"\n",
    "    return salida.strip()"
   ]
  },
  {
   "cell_type": "markdown",
   "id": "e3ce1c8f-30b6-4d6b-a7bd-6dc3418374ac",
   "metadata": {},
   "source": [
    "### Breadth-first search (BFS):"
   ]
  },
  {
   "cell_type": "code",
   "execution_count": 3,
   "id": "a6658760-f312-42ca-be1c-632b01763ae2",
   "metadata": {},
   "outputs": [
    {
     "name": "stdout",
     "output_type": "stream",
     "text": [
      "Breadth-First Search:\n",
      "Ruta encontrada:\n",
      "S1: {('3M', '3C', 'B'), ('0M', '0C', '0')}\n",
      "S6: {('0M', '2C', 'B'), ('3M', '2C', '0')}\n",
      "S10: {('3M', '2C', 'B'), ('0M', '1C', '0')}\n",
      "S11: {('3M', '3C', 'B'), ('0M', '0C', '0')}\n",
      "S13: {('0M', '2C', '0'), ('3M', '1C', 'B')}\n",
      "S15: {('1M', '1C', '0'), ('2M', '2C', 'B')}\n",
      "S16: {('1M', '1C', '0'), ('2M', '2C', 'B')}\n",
      "S19: {('0M', '2C', '0'), ('3M', '1C', 'B')}\n",
      "S22: {('3M', '0C', '0'), ('0M', '3C', 'B')}\n",
      "S25: {('3M', '2C', 'B'), ('0M', '1C', '0')}\n",
      "S26: {('0M', '2C', 'B'), ('3M', '1C', '0')}\n",
      "S27: {('3M', '3C', 'B'), ('0M', '0C', '0')}\n"
     ]
    }
   ],
   "source": [
    "# Ejecutar Breadth-First Search\n",
    "print(\"Breadth-First Search:\")\n",
    "resultado_1 = depth_first_graph_search(lab_problem)\n",
    "# Mostrar la ruta y el costo total\n",
    "print(\"Ruta encontrada:\")\n",
    "print(\"S1:\", atributos_nodos['S1'])\n",
    "print(formatear_ruta(resultado_1))"
   ]
  },
  {
   "cell_type": "markdown",
   "id": "92afaf0a-eacf-4ddf-982f-64e27a1cf8bb",
   "metadata": {},
   "source": [
    "### Depth-First Search (DFS):"
   ]
  },
  {
   "cell_type": "code",
   "execution_count": 4,
   "id": "f7b85d59-94ad-4579-b005-2d6e8552e47e",
   "metadata": {},
   "outputs": [
    {
     "name": "stdout",
     "output_type": "stream",
     "text": [
      "Depth-First Search:\n",
      "Ruta encontrada:\n",
      "S1: {('3M', '3C', 'B'), ('0M', '0C', '0')}\n",
      "S6: {('0M', '2C', 'B'), ('3M', '2C', '0')}\n",
      "S10: {('3M', '2C', 'B'), ('0M', '1C', '0')}\n",
      "S11: {('3M', '3C', 'B'), ('0M', '0C', '0')}\n",
      "S13: {('0M', '2C', '0'), ('3M', '1C', 'B')}\n",
      "S15: {('1M', '1C', '0'), ('2M', '2C', 'B')}\n",
      "S16: {('1M', '1C', '0'), ('2M', '2C', 'B')}\n",
      "S19: {('0M', '2C', '0'), ('3M', '1C', 'B')}\n",
      "S22: {('3M', '0C', '0'), ('0M', '3C', 'B')}\n",
      "S25: {('3M', '2C', 'B'), ('0M', '1C', '0')}\n",
      "S26: {('0M', '2C', 'B'), ('3M', '1C', '0')}\n",
      "S27: {('3M', '3C', 'B'), ('0M', '0C', '0')}\n"
     ]
    }
   ],
   "source": [
    "# Ejecutar Depth-First Search\n",
    "print(\"Depth-First Search:\")\n",
    "resultado_2 = depth_first_graph_search(lab_problem)\n",
    "# Mostrar la ruta y el costo total\n",
    "print(\"Ruta encontrada:\")\n",
    "print(\"S1:\", atributos_nodos['S1'])\n",
    "print(formatear_ruta(resultado_2))"
   ]
  },
  {
   "cell_type": "markdown",
   "id": "14d5aa40-a548-424f-9fe0-d7db3aed803a",
   "metadata": {},
   "source": [
    "### Best-First Search (BeFS):"
   ]
  },
  {
   "cell_type": "code",
   "execution_count": 5,
   "id": "5ab81fcb-4156-4b23-803a-a5939f7d54e2",
   "metadata": {},
   "outputs": [
    {
     "name": "stdout",
     "output_type": "stream",
     "text": [
      "Best-First Search:\n",
      "Ruta encontrada:\n",
      "S1: {('3M', '3C', 'B'), ('0M', '0C', '0')}\n",
      "S4: {('2M', '2C', '0'), ('1M', '1C', 'B')}\n",
      "S10: {('3M', '2C', 'B'), ('0M', '1C', '0')}\n",
      "S11: {('3M', '3C', 'B'), ('0M', '0C', '0')}\n",
      "S13: {('0M', '2C', '0'), ('3M', '1C', 'B')}\n",
      "S15: {('1M', '1C', '0'), ('2M', '2C', 'B')}\n",
      "S16: {('1M', '1C', '0'), ('2M', '2C', 'B')}\n",
      "S19: {('0M', '2C', '0'), ('3M', '1C', 'B')}\n",
      "S22: {('3M', '0C', '0'), ('0M', '3C', 'B')}\n",
      "S25: {('3M', '2C', 'B'), ('0M', '1C', '0')}\n",
      "S24: {('2M', '2C', '0'), ('1M', '1C', 'B')}\n",
      "S27: {('3M', '3C', 'B'), ('0M', '0C', '0')}\n"
     ]
    }
   ],
   "source": [
    "# Ejecutar Best-First Search\n",
    "print(\"Best-First Search:\")\n",
    "resultado_3 = best_first_graph_search(lab_problem, lambda node: node.path_cost)\n",
    "# Mostrar la ruta y el costo total\n",
    "print(\"Ruta encontrada:\")\n",
    "print(\"S1:\", atributos_nodos['S1'])\n",
    "print(formatear_ruta(resultado_3))"
   ]
  },
  {
   "cell_type": "code",
   "execution_count": null,
   "id": "cd913494-9e4e-4e00-bab7-fc4a881f3c94",
   "metadata": {},
   "outputs": [],
   "source": []
  }
 ],
 "metadata": {
  "kernelspec": {
   "display_name": "Python 3 (ipykernel)",
   "language": "python",
   "name": "python3"
  },
  "language_info": {
   "codemirror_mode": {
    "name": "ipython",
    "version": 3
   },
   "file_extension": ".py",
   "mimetype": "text/x-python",
   "name": "python",
   "nbconvert_exporter": "python",
   "pygments_lexer": "ipython3",
   "version": "3.8.19"
  }
 },
 "nbformat": 4,
 "nbformat_minor": 5
}
